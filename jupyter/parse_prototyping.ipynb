{
 "cells": [
  {
   "cell_type": "code",
   "execution_count": 1,
   "metadata": {
    "collapsed": true
   },
   "outputs": [],
   "source": [
    "import piexif\n",
    "import os.path\n",
    "from arcgis.geometry import Point, SpatialReference\n",
    "from arcgis.features import SpatialDataFrame\n",
    "from uuid import uuid4\n",
    "\n",
    "def dms_to_dd(dms):\n",
    "    return dms[0][0] / dms[0][1] + dms[1][0] / dms[1][1] / 60 + dms[2][0] / dms[2][1] / 3600\n",
    "\n",
    "def get_photo_location(path_to_photo):\n",
    "\n",
    "    # create a dictionary to populate\n",
    "    photo = {}\n",
    "\n",
    "    # get all the exif data\n",
    "    exif = piexif.load(path_to_photo)\n",
    "\n",
    "    # if gps data is in the exif data\n",
    "    if 'GPS' in exif:\n",
    "\n",
    "        # save the gps data to a variable for easier processing\n",
    "        gps = exif['GPS']\n",
    "\n",
    "        # get the x value\n",
    "        y = dms_to_dd(gps[2])\n",
    "\n",
    "        # check to ensure the x value is logical, between the north and south pole in degrees\n",
    "        if y > 100:\n",
    "            y = None\n",
    "        else:\n",
    "            \n",
    "            # set positive or negative based on hemisphere\n",
    "            y = -y if gps[1] == b'S' else y\n",
    "\n",
    "        # get the y value\n",
    "        x = dms_to_dd(gps[4])\n",
    "        \n",
    "        # check to ensure the y value is logical, between the prime merian and the international date line\n",
    "        if x > 190:\n",
    "            x = None\n",
    "        else:\n",
    "            \n",
    "            # set positive or negateive based on hemisphere\n",
    "            x = -x if gps[3] == b'W' else x\n",
    "\n",
    "        # if both x and y are valid, populate dictionary\n",
    "        if x and y:\n",
    "            photo['x'] = x\n",
    "            photo['y'] = y\n",
    "            \n",
    "        else:\n",
    "            photo['x'] = None\n",
    "            photo['y'] = None\n",
    "\n",
    "    else:\n",
    "        photo['x'] = None\n",
    "        photo['y'] = None\n",
    "        \n",
    "    # return the result\n",
    "    return photo\n",
    "\n",
    "def get_photo_point_geometry(path_to_photo):\n",
    "    \n",
    "    # get the location where the photos were taken\n",
    "    photo_location = get_photo_location(path_to_photo)\n",
    "    \n",
    "    # if a location is returned, create a point geometry and return it\n",
    "    if photo_location['x'] and photo_location['y']:\n",
    "        return Point(photo_location, sr=SpatialReference(wkid=4326))\n",
    "    else:\n",
    "        return None\n",
    "    \n",
    "def get_photo_spatial_data_frame(path_to_directory_containing_photos):\n",
    "    \n",
    "    # use SHAPE as convention for the name of the geometry field\n",
    "    geometry_field = 'SHAPE'\n",
    "    \n",
    "    # create a list of JPG photos contained in the directory as a dictionary\n",
    "    photo_list = [\n",
    "        {\n",
    "            'name': file.split('.')[0], \n",
    "            'path': os.path.join(path_to_directory_containing_photos, file),\n",
    "            'uuid': uuid4().hex\n",
    "        } \n",
    "        for file in os.listdir(path_to_directory_containing_photos) \n",
    "        if file.lower().endswith('.jpg')\n",
    "    ]\n",
    "    \n",
    "    # create a spatial data frame from the list of photos\n",
    "    sdf_photo = SpatialDataFrame(photo_list)\n",
    "    \n",
    "    # create the geometry points, and save them in a new geometry field\n",
    "    sdf_photo[geometry_field] = sdf_photo.path.apply(lambda file_path: get_photo_point_geometry(file_path))\n",
    "    \n",
    "    # set the geometry field property\n",
    "    sdf_photo.set_geometry(geometry_field, inplace=True, sr=SpatialReference(wkid=4326))\n",
    "    \n",
    "    # reindex all the data and return the result\n",
    "    return sdf_photo.reset_index(drop=True)"
   ]
  },
  {
   "cell_type": "code",
   "execution_count": 2,
   "metadata": {
    "collapsed": true
   },
   "outputs": [],
   "source": [
    "path_dir = r\"..\\resources\\test_photos\""
   ]
  },
  {
   "cell_type": "code",
   "execution_count": 3,
   "metadata": {},
   "outputs": [
    {
     "data": {
      "text/html": [
       "<div>\n",
       "<style>\n",
       "    .dataframe thead tr:only-child th {\n",
       "        text-align: right;\n",
       "    }\n",
       "\n",
       "    .dataframe thead th {\n",
       "        text-align: left;\n",
       "    }\n",
       "\n",
       "    .dataframe tbody tr th {\n",
       "        vertical-align: top;\n",
       "    }\n",
       "</style>\n",
       "<table border=\"1\" class=\"dataframe\">\n",
       "  <thead>\n",
       "    <tr style=\"text-align: right;\">\n",
       "      <th></th>\n",
       "      <th>name</th>\n",
       "      <th>path</th>\n",
       "      <th>uuid</th>\n",
       "      <th>SHAPE</th>\n",
       "    </tr>\n",
       "  </thead>\n",
       "  <tbody>\n",
       "    <tr>\n",
       "      <th>0</th>\n",
       "      <td>IMG_1149</td>\n",
       "      <td>..\\resources\\test_photos\\IMG_1149.JPG</td>\n",
       "      <td>8c5b49b11cfd4e3fb385f236b3fdd8b0</td>\n",
       "      <td>{'x': -121.69461111111112, 'y': 45.32214444444...</td>\n",
       "    </tr>\n",
       "    <tr>\n",
       "      <th>1</th>\n",
       "      <td>IMG_1741</td>\n",
       "      <td>..\\resources\\test_photos\\IMG_1741.JPG</td>\n",
       "      <td>663bec48dfb14cfda260477af73c566e</td>\n",
       "      <td>{'x': -121.12847777777777, 'y': 44.41288333333...</td>\n",
       "    </tr>\n",
       "    <tr>\n",
       "      <th>2</th>\n",
       "      <td>IMG_1821</td>\n",
       "      <td>..\\resources\\test_photos\\IMG_1821.JPG</td>\n",
       "      <td>c5ea3bdde6024b58a9bda806635fd4c8</td>\n",
       "      <td>{'x': -122.42665833333334, 'y': 47.23696111111...</td>\n",
       "    </tr>\n",
       "  </tbody>\n",
       "</table>\n",
       "</div>"
      ],
      "text/plain": [
       "       name                                   path  \\\n",
       "0  IMG_1149  ..\\resources\\test_photos\\IMG_1149.JPG   \n",
       "1  IMG_1741  ..\\resources\\test_photos\\IMG_1741.JPG   \n",
       "2  IMG_1821  ..\\resources\\test_photos\\IMG_1821.JPG   \n",
       "\n",
       "                               uuid  \\\n",
       "0  8c5b49b11cfd4e3fb385f236b3fdd8b0   \n",
       "1  663bec48dfb14cfda260477af73c566e   \n",
       "2  c5ea3bdde6024b58a9bda806635fd4c8   \n",
       "\n",
       "                                               SHAPE  \n",
       "0  {'x': -121.69461111111112, 'y': 45.32214444444...  \n",
       "1  {'x': -121.12847777777777, 'y': 44.41288333333...  \n",
       "2  {'x': -122.42665833333334, 'y': 47.23696111111...  "
      ]
     },
     "execution_count": 3,
     "metadata": {},
     "output_type": "execute_result"
    }
   ],
   "source": [
    "sdf_photo = get_photo_spatial_data_frame(path_dir)\n",
    "sdf_photo"
   ]
  },
  {
   "cell_type": "code",
   "execution_count": 4,
   "metadata": {},
   "outputs": [
    {
     "data": {
      "text/plain": [
       "{\"fields\": [], \"features\": [{\"attributes\": {\"path\": \"..\\\\resources\\\\test_photos\\\\IMG_1149.JPG\", \"name\": \"IMG_1149\", \"uuid\": \"8c5b49b11cfd4e3fb385f236b3fdd8b0\"}, \"geometry\": {\"x\": -121.69461111111112, \"y\": 45.32214444444445, \"sr\": {\"wkid\": 4326}}}, {\"attributes\": {\"path\": \"..\\\\resources\\\\test_photos\\\\IMG_1741.JPG\", \"name\": \"IMG_1741\", \"uuid\": \"663bec48dfb14cfda260477af73c566e\"}, \"geometry\": {\"x\": -121.12847777777777, \"y\": 44.41288333333333, \"sr\": {\"wkid\": 4326}}}, {\"attributes\": {\"path\": \"..\\\\resources\\\\test_photos\\\\IMG_1821.JPG\", \"name\": \"IMG_1821\", \"uuid\": \"c5ea3bdde6024b58a9bda806635fd4c8\"}, \"geometry\": {\"x\": -122.42665833333334, \"y\": 47.236961111111114, \"sr\": {\"wkid\": 4326}}}], \"geometryType\": \"esriGeometryPoint\", \"spatialReference\": {\"wkid\": 4326}}"
      ]
     },
     "execution_count": 4,
     "metadata": {},
     "output_type": "execute_result"
    }
   ],
   "source": [
    "sdf_photo.to_featureset()"
   ]
  },
  {
   "cell_type": "code",
   "execution_count": null,
   "metadata": {
    "collapsed": true
   },
   "outputs": [],
   "source": []
  }
 ],
 "metadata": {
  "kernelspec": {
   "display_name": "Python 3",
   "language": "python",
   "name": "python3"
  },
  "language_info": {
   "codemirror_mode": {
    "name": "ipython",
    "version": 3
   },
   "file_extension": ".py",
   "mimetype": "text/x-python",
   "name": "python",
   "nbconvert_exporter": "python",
   "pygments_lexer": "ipython3",
   "version": "3.5.4"
  }
 },
 "nbformat": 4,
 "nbformat_minor": 2
}
